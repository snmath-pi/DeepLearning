{
 "cells": [
  {
   "cell_type": "code",
   "execution_count": 1,
   "id": "071801bd-df57-436d-8c69-c1529a50ff88",
   "metadata": {},
   "outputs": [],
   "source": [
    "import numpy as np"
   ]
  },
  {
   "cell_type": "code",
   "execution_count": 2,
   "id": "db9fce44-2e1b-404f-8a2d-df616fe1c5dd",
   "metadata": {},
   "outputs": [],
   "source": [
    "y_predicted = np.array([1,1,0,0,1])\n",
    "y_true = np.array([0.30,0.7,1,0,0.5])"
   ]
  },
  {
   "cell_type": "code",
   "execution_count": 5,
   "id": "a8e6d9b5-fad7-490d-a871-cc850c2693f2",
   "metadata": {},
   "outputs": [],
   "source": [
    "def mean_absolute_error(y_true, y_predicted):\n",
    "    total_error = 0\n",
    "    for x, y in zip(y_true, y_predicted):\n",
    "        total_error += abs(x-y)\n",
    "    print(\"total_error\", total_error)\n",
    "    return total_error/len(y_true)"
   ]
  },
  {
   "cell_type": "code",
   "execution_count": 6,
   "id": "422f28e8-1b3f-4760-abde-c810c0c98193",
   "metadata": {},
   "outputs": [
    {
     "name": "stdout",
     "output_type": "stream",
     "text": [
      "total_error 2.5\n"
     ]
    },
    {
     "data": {
      "text/plain": [
       "0.5"
      ]
     },
     "execution_count": 6,
     "metadata": {},
     "output_type": "execute_result"
    }
   ],
   "source": [
    "mean_absolute_error(y_true,y_predicted)"
   ]
  },
  {
   "cell_type": "code",
   "execution_count": 8,
   "id": "d09918ab-fde8-47d3-8dd2-649be661322d",
   "metadata": {},
   "outputs": [
    {
     "data": {
      "text/plain": [
       "0.5"
      ]
     },
     "execution_count": 8,
     "metadata": {},
     "output_type": "execute_result"
    }
   ],
   "source": [
    "np.mean(np.abs(y_predicted-y_true))"
   ]
  },
  {
   "cell_type": "code",
   "execution_count": 9,
   "id": "247874b0-ba4e-441e-a7aa-3c2e72e37671",
   "metadata": {},
   "outputs": [],
   "source": [
    "epsilon=1e-15"
   ]
  },
  {
   "cell_type": "code",
   "execution_count": 11,
   "id": "cc6c0c18-fa66-4c36-b850-42eaeb155bf0",
   "metadata": {},
   "outputs": [
    {
     "data": {
      "text/plain": [
       "[1, 1, 1e-15, 1e-15, 1]"
      ]
     },
     "execution_count": 11,
     "metadata": {},
     "output_type": "execute_result"
    }
   ],
   "source": [
    "y_predicted_new=[max(i, epsilon) for i in y_predicted]\n",
    "y_predicted_new"
   ]
  },
  {
   "cell_type": "code",
   "execution_count": 17,
   "id": "a8ba2074-7173-4ea8-9160-42edb997939d",
   "metadata": {},
   "outputs": [
    {
     "data": {
      "text/plain": [
       "0.999999999999999"
      ]
     },
     "execution_count": 17,
     "metadata": {},
     "output_type": "execute_result"
    }
   ],
   "source": [
    "1-epsilon\n"
   ]
  },
  {
   "cell_type": "code",
   "execution_count": 16,
   "id": "5e0d7f29-6c80-425c-9100-667a0ee5381a",
   "metadata": {},
   "outputs": [
    {
     "data": {
      "text/plain": [
       "[0.999999999999999, 0.999999999999999, 0, 0, 0.999999999999999]"
      ]
     },
     "execution_count": 16,
     "metadata": {},
     "output_type": "execute_result"
    }
   ],
   "source": [
    "y_predicted_new = [min(i,1-epsilon) for i in y_predicted_new]\n",
    "y_predicted_new"
   ]
  },
  {
   "cell_type": "code",
   "execution_count": null,
   "id": "97e3375e-518b-48e1-a0ba-f2b071777b3e",
   "metadata": {},
   "outputs": [],
   "source": []
  }
 ],
 "metadata": {
  "kernelspec": {
   "display_name": "Python 3 (ipykernel)",
   "language": "python",
   "name": "python3"
  },
  "language_info": {
   "codemirror_mode": {
    "name": "ipython",
    "version": 3
   },
   "file_extension": ".py",
   "mimetype": "text/x-python",
   "name": "python",
   "nbconvert_exporter": "python",
   "pygments_lexer": "ipython3",
   "version": "3.12.4"
  }
 },
 "nbformat": 4,
 "nbformat_minor": 5
}
