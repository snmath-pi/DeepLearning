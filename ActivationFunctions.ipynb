{
 "cells": [
  {
   "cell_type": "code",
   "execution_count": 1,
   "id": "08306c0b-8ea8-4bb3-bec9-dd194bc853f2",
   "metadata": {},
   "outputs": [],
   "source": [
    "import math\n",
    "def sigmoid(x):\n",
    "    return 1 / (1+math.exp(-x))"
   ]
  },
  {
   "cell_type": "code",
   "execution_count": 3,
   "id": "4f02bcb9-cdd0-451a-a7a2-7f02b6a7cae0",
   "metadata": {},
   "outputs": [
    {
     "data": {
      "text/plain": [
       "1.0"
      ]
     },
     "execution_count": 3,
     "metadata": {},
     "output_type": "execute_result"
    }
   ],
   "source": [
    "sigmoid(100)"
   ]
  },
  {
   "cell_type": "code",
   "execution_count": 6,
   "id": "168ca27b-d874-45f9-be36-f846319d5e60",
   "metadata": {},
   "outputs": [
    {
     "data": {
      "text/plain": [
       "0"
      ]
     },
     "execution_count": 6,
     "metadata": {},
     "output_type": "execute_result"
    }
   ],
   "source": [
    "math.floor(sigmoid(-123))"
   ]
  },
  {
   "cell_type": "code",
   "execution_count": 7,
   "id": "00990295-c56b-49c3-b884-597527bf2fde",
   "metadata": {},
   "outputs": [],
   "source": [
    "def tanh(x):\n",
    "    return (math.exp(x)-math.exp(-x))/(math.exp(x)+math.exp(-x))"
   ]
  },
  {
   "cell_type": "code",
   "execution_count": 8,
   "id": "93987e87-609f-47f8-9d94-872bdae8a7c5",
   "metadata": {},
   "outputs": [
    {
     "data": {
      "text/plain": [
       "-1.0"
      ]
     },
     "execution_count": 8,
     "metadata": {},
     "output_type": "execute_result"
    }
   ],
   "source": [
    "tanh(-56)"
   ]
  },
  {
   "cell_type": "code",
   "execution_count": 9,
   "id": "ae769604-c623-4486-a405-c4015a3a518b",
   "metadata": {},
   "outputs": [
    {
     "data": {
      "text/plain": [
       "1.0"
      ]
     },
     "execution_count": 9,
     "metadata": {},
     "output_type": "execute_result"
    }
   ],
   "source": [
    "tanh(688)"
   ]
  },
  {
   "cell_type": "code",
   "execution_count": 10,
   "id": "c3a4f0e4-a8db-488c-a1a9-5fd9e12bbbac",
   "metadata": {},
   "outputs": [],
   "source": [
    "# tanh(-1,1) #sigmoid(0,1)"
   ]
  },
  {
   "cell_type": "code",
   "execution_count": 11,
   "id": "404e3abb-88f0-4402-8dc1-4147db49202b",
   "metadata": {},
   "outputs": [],
   "source": [
    "def reLU(x):\n",
    "    return max(0,x)"
   ]
  },
  {
   "cell_type": "code",
   "execution_count": 12,
   "id": "520b2d45-3122-4ae2-bbc9-6c29e0fc181b",
   "metadata": {},
   "outputs": [
    {
     "data": {
      "text/plain": [
       "0"
      ]
     },
     "execution_count": 12,
     "metadata": {},
     "output_type": "execute_result"
    }
   ],
   "source": [
    "reLU(-80)"
   ]
  },
  {
   "cell_type": "code",
   "execution_count": 13,
   "id": "f87748a5-f5cc-4e92-b8a3-df1a4628a366",
   "metadata": {},
   "outputs": [],
   "source": [
    "def LeakyreLU(x):\n",
    "    return max(0.1*x,x)"
   ]
  },
  {
   "cell_type": "code",
   "execution_count": 14,
   "id": "4afcb18d-59c3-4469-a10e-68e1e6afa536",
   "metadata": {},
   "outputs": [
    {
     "data": {
      "text/plain": [
       "-10.0"
      ]
     },
     "execution_count": 14,
     "metadata": {},
     "output_type": "execute_result"
    }
   ],
   "source": [
    "LeakyreLU(-100)"
   ]
  },
  {
   "cell_type": "code",
   "execution_count": 15,
   "id": "e2716cb9-fdc5-4529-8d72-0e7608c86cec",
   "metadata": {},
   "outputs": [],
   "source": [
    "#most likely using redimate api from tf or keras"
   ]
  },
  {
   "cell_type": "code",
   "execution_count": 16,
   "id": "f0b19425-34a2-4993-9213-07e70b11fb81",
   "metadata": {},
   "outputs": [],
   "source": [
    "import numpy as np\n",
    "revenue = np.array([[180,200,220],[24,36,40],[12,18,20]])\n",
    "expenses = np.array([[80,90,100],[10,16,20],[8,10,10]])"
   ]
  },
  {
   "cell_type": "code",
   "execution_count": 18,
   "id": "5f51893c-1da0-4b2b-893f-b93d72bfa8f9",
   "metadata": {},
   "outputs": [
    {
     "data": {
      "text/plain": [
       "array([[100, 110, 120],\n",
       "       [ 14,  20,  20],\n",
       "       [  4,   8,  10]])"
      ]
     },
     "execution_count": 18,
     "metadata": {},
     "output_type": "execute_result"
    }
   ],
   "source": [
    "profit=revenue-expenses\n",
    "profit"
   ]
  },
  {
   "cell_type": "code",
   "execution_count": 19,
   "id": "93960fb2-83a8-4952-866e-d79653a2994c",
   "metadata": {},
   "outputs": [
    {
     "data": {
      "text/plain": [
       "array([[30000, 16000, 60000],\n",
       "       [ 5000,  4000, 18000],\n",
       "       [ 2000,  2000,  8400]])"
      ]
     },
     "execution_count": 19,
     "metadata": {},
     "output_type": "execute_result"
    }
   ],
   "source": [
    "price_per_unit = np.array([1000,400,1200])\n",
    "units = np.array([[30,40,50],[5,10,15],[2,5,7]])\n",
    "price_per_unit*units"
   ]
  },
  {
   "cell_type": "code",
   "execution_count": 20,
   "id": "13f9a23f-f4fd-463e-b14a-6e5b09c7fd59",
   "metadata": {},
   "outputs": [
    {
     "data": {
      "text/plain": [
       "array([34400, 50000, 64400])"
      ]
     },
     "execution_count": 20,
     "metadata": {},
     "output_type": "execute_result"
    }
   ],
   "source": [
    "np.dot(price_per_unit,units)"
   ]
  },
  {
   "cell_type": "code",
   "execution_count": null,
   "id": "f66a9b6b-722d-4671-82dd-1ccf745c4d04",
   "metadata": {},
   "outputs": [],
   "source": []
  }
 ],
 "metadata": {
  "kernelspec": {
   "display_name": "Python 3 (ipykernel)",
   "language": "python",
   "name": "python3"
  },
  "language_info": {
   "codemirror_mode": {
    "name": "ipython",
    "version": 3
   },
   "file_extension": ".py",
   "mimetype": "text/x-python",
   "name": "python",
   "nbconvert_exporter": "python",
   "pygments_lexer": "ipython3",
   "version": "3.12.4"
  }
 },
 "nbformat": 4,
 "nbformat_minor": 5
}
